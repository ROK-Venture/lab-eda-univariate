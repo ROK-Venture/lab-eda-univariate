{
 "cells": [
  {
   "cell_type": "code",
   "execution_count": null,
   "metadata": {},
   "outputs": [],
   "source": [
    "import pandas as pd\n",
    "import matplotlib.pyplot as plt\n",
    "import seaborn as sns\n",
    "import numpy as np"
   ]
  },
  {
   "cell_type": "markdown",
   "metadata": {},
   "source": [
    "## Load data and structure"
   ]
  },
  {
   "cell_type": "code",
   "execution_count": null,
   "metadata": {},
   "outputs": [],
   "source": [
    "df_amz_ppd = pd.read_csv('./amz_uk_price_prediction_dataset.csv')"
   ]
  },
  {
   "cell_type": "code",
   "execution_count": null,
   "metadata": {},
   "outputs": [],
   "source": [
    "df_amz_ppd.head()"
   ]
  },
  {
   "cell_type": "code",
   "execution_count": null,
   "metadata": {},
   "outputs": [],
   "source": [
    "df_amz_ppd.dtypes"
   ]
  },
  {
   "cell_type": "code",
   "execution_count": null,
   "metadata": {},
   "outputs": [],
   "source": [
    "df_amz_ppd.shape"
   ]
  },
  {
   "cell_type": "code",
   "execution_count": null,
   "metadata": {},
   "outputs": [],
   "source": [
    "df_amz_ppd.nunique().sort_values(ascending=False)"
   ]
  },
  {
   "cell_type": "code",
   "execution_count": null,
   "metadata": {},
   "outputs": [],
   "source": [
    "df_amz_ppd['category'].unique()\n"
   ]
  },
  {
   "cell_type": "code",
   "execution_count": null,
   "metadata": {},
   "outputs": [],
   "source": [
    "df_amz_cat_count = df_amz_ppd['category'].value_counts()\n",
    "df_amz_cat_count"
   ]
  },
  {
   "cell_type": "markdown",
   "metadata": {},
   "source": [
    "## Part 1: Understanding Product Categories\n",
    "Business Question: What are the most popular product categories on Amazon UK, and how do they compare in terms of listing frequency?\n",
    "\n",
    "Frequency Tables:\n",
    "\n",
    "- Generate a frequency table for the product category.\n",
    "- Which are the top 5 most listed product categories?\n",
    "\n",
    "Visualizations:\n",
    "\n",
    "- Display the distribution of products across different categories using a bar chart. If you face problems understanding the chart, do it for a subset of top categories.\n",
    "- For a subset of top categories, visualize their proportions using a pie chart. Does any category dominate the listings?"
   ]
  },
  {
   "cell_type": "code",
   "execution_count": null,
   "metadata": {},
   "outputs": [],
   "source": [
    "df_amz_ppd['asin'].unique()"
   ]
  },
  {
   "cell_type": "code",
   "execution_count": null,
   "metadata": {},
   "outputs": [],
   "source": [
    "df_amz_asin_count = df_amz_ppd[[\"asin\", \"title\"]].value_counts()   #\"category\"\n",
    "#df_amz_asin_count = df_amz_asin_count.sort_values(ascending=False)\n",
    "df_amz_asin_count.head(25)"
   ]
  },
  {
   "cell_type": "code",
   "execution_count": null,
   "metadata": {},
   "outputs": [],
   "source": [
    "df_amz_cat_freq = pd.crosstab(index = df_amz_ppd[\"category\"], columns = \"abs_count\")\n",
    "\n",
    "df_amz_cat_freq = df_amz_cat_freq.reset_index()\n",
    "df_amz_cat_freq = df_amz_cat_freq.sort_values(by = \"abs_count\", ascending=False)\n",
    "\n",
    "df_amz_cat_freq[\"rel_freq_in%\"] = df_amz_cat_freq[\"abs_count\"] / df_amz_cat_freq[\"abs_count\"].sum() *100\n",
    "\n",
    "df_amz_cat_freq.head(5)"
   ]
  },
  {
   "cell_type": "code",
   "execution_count": null,
   "metadata": {},
   "outputs": [],
   "source": [
    "df_top10_abs_count = df_amz_cat_freq[[\"category\", \"abs_count\"]].nlargest(10, \"abs_count\")\n",
    "df_top10_abs_count"
   ]
  },
  {
   "cell_type": "code",
   "execution_count": null,
   "metadata": {},
   "outputs": [],
   "source": [
    "top10_rel_freq = df_amz_cat_freq[[\"category\", \"rel_freq_in%\"]].nlargest(10, \"rel_freq_in%\")\n",
    "top10_rel_freq"
   ]
  },
  {
   "cell_type": "code",
   "execution_count": null,
   "metadata": {},
   "outputs": [],
   "source": [
    "print(df_amz_cat_freq.head())\n",
    "print(df_amz_cat_freq.columns)"
   ]
  },
  {
   "cell_type": "code",
   "execution_count": null,
   "metadata": {},
   "outputs": [],
   "source": [
    "sns.barplot(x=df_top10_abs_count[\"abs_count\"], y=df_top10_abs_count[\"category\"], palette=\"Set3\")\n",
    "plt.title(\"Top 10 Category according to listing\")\n",
    "plt.xlabel(\"absolut count\")\n",
    "plt.ylabel(\"category\")\n",
    "plt.show()"
   ]
  },
  {
   "cell_type": "code",
   "execution_count": null,
   "metadata": {},
   "outputs": [],
   "source": [
    "sns.barplot(x=top10_rel_freq[\"rel_freq_in%\"], y=top10_rel_freq[\"category\"], palette=\"Set3\")\n",
    "plt.title(\"Top 10 category according to listing in %\")\n",
    "plt.xlabel(\"count in %\")\n",
    "plt.ylabel(\"category\")\n",
    "plt.show()"
   ]
  },
  {
   "cell_type": "code",
   "execution_count": null,
   "metadata": {},
   "outputs": [],
   "source": [
    "plt.pie(\n",
    "    top10_rel_freq[\"rel_freq_in%\"],\n",
    "    labels=top10_rel_freq[\"category\"],\n",
    "    autopct='%1.1f%%',\n",
    "    startangle=90,\n",
    "    colors=sns.color_palette(\"Set3\")\n",
    ")\n",
    "plt.title(\"Top10 categories\")\n",
    "plt.show()\n",
    "\n",
    "# it's just the top10 =100% - from the top10 Sports&Outdoors is dominating with 83%"
   ]
  },
  {
   "cell_type": "markdown",
   "metadata": {},
   "source": [
    "## Part 2: Delving into Product Pricing\n",
    "Business Question: How are products priced on Amazon UK, and are there specific price points or ranges that are more common?\n",
    "\n",
    "Measures of Centrality:\n",
    "\n",
    "Calculate the mean, median, and mode for the price of products.\n",
    "What's the average price point of products listed? How does this compare with the most common price point (mode)?\n",
    "Measures of Dispersion:\n",
    "\n",
    "Determine the variance, standard deviation, range, and interquartile range for product price.\n",
    "How varied are the product prices? Are there any indicators of a significant spread in prices?\n",
    "Visualizations:\n",
    "\n",
    "Is there a specific price range where most products fall? Plot a histogram to visualize the distribution of product prices. If its hard to read these diagrams, think why this is, and explain how it could be solved..\n",
    "Are there products that are priced significantly higher than the rest? Use a box plot to showcase the spread and potential outliers in product pricing."
   ]
  },
  {
   "cell_type": "code",
   "execution_count": null,
   "metadata": {},
   "outputs": [],
   "source": [
    "df_amz_ppd.describe().round(2)"
   ]
  },
  {
   "cell_type": "code",
   "execution_count": null,
   "metadata": {},
   "outputs": [],
   "source": [
    "count_price = df_amz_ppd[\"price\"].count()\n",
    "mean_price = df_amz_ppd[\"price\"].mean()\n",
    "median_price = df_amz_ppd[\"price\"].median()\n",
    "mode_price = df_amz_ppd[\"price\"].mode()[0]\n",
    "\n",
    "count_price, mean_price, median_price, mode_price"
   ]
  },
  {
   "cell_type": "markdown",
   "metadata": {},
   "source": [
    "Interpretation:\n",
    "\n",
    "The average is significantly different from the median and the mode. 50% of the products are cheaper than 19 units and 50% are more expensive than 19 units. \n",
    "Products with 10 units cost the most less than the median, but they deviate very strongly from the average with 89 units. \n",
    "This difference is most likely due to products that are significantly more expensive than 10 or 20 units."
   ]
  },
  {
   "cell_type": "code",
   "execution_count": null,
   "metadata": {},
   "outputs": [],
   "source": [
    "# MODE , VARIANCE, STANDARD DEVIATION, RANGE, \n",
    "var_price = df_amz_ppd[\"price\"].var()\n",
    "std_price = df_amz_ppd[\"price\"].std()\n",
    "range_price = df_amz_ppd[\"price\"].max()  - df_amz_ppd[\"price\"].min()\n",
    "\n",
    "var_price, std_price, range_price"
   ]
  },
  {
   "cell_type": "markdown",
   "metadata": {},
   "source": [
    "Interpretation:\n",
    "\n",
    " Yes, there is a strong deviation from the median from around 1800%. A randomly selected product is 345 units away from the median (19 units). This high deviation is also visible in the extreme range of 100000 units"
   ]
  },
  {
   "cell_type": "code",
   "execution_count": null,
   "metadata": {},
   "outputs": [],
   "source": [
    "sns.histplot(df_amz_ppd['price'], kde=True, bins=5, color=\"salmon\")"
   ]
  },
  {
   "cell_type": "code",
   "execution_count": null,
   "metadata": {},
   "outputs": [],
   "source": [
    "plt.hist(x=df_amz_ppd[\"price\"], bins =30)\n",
    "plt.show"
   ]
  },
  {
   "cell_type": "code",
   "execution_count": null,
   "metadata": {},
   "outputs": [],
   "source": [
    "sns.boxplot(df_amz_ppd['price'], color=\"lightblue\")\n",
    "plt.show"
   ]
  },
  {
   "cell_type": "code",
   "execution_count": null,
   "metadata": {},
   "outputs": [],
   "source": [
    "df_amz_ppd['price_quantile'] = pd.qcut(df_amz_ppd['price'], q=5, labels=['very low', 'low', 'medium', 'high', 'very high'])\n",
    "\n",
    "df_amz_ppd.price_quantile.value_counts()"
   ]
  },
  {
   "cell_type": "code",
   "execution_count": null,
   "metadata": {},
   "outputs": [],
   "source": [
    "skewness_df_amz_ppd = df_amz_ppd[\"price\"].skew()\n",
    "kurtosis_df_amz_ppd = df_amz_ppd['price'].kurtosis()\n",
    "\n",
    "skewness_df_amz_ppd, kurtosis_df_amz_ppd"
   ]
  },
  {
   "cell_type": "code",
   "execution_count": null,
   "metadata": {},
   "outputs": [],
   "source": [
    "sns.histplot(df_amz_ppd['price'], kde=True, bins=25, color=\"salmon\") #bins=12, (zwischen kde und color)\n",
    "#plt.ylim(0,100) #fürs reinzoomen\n",
    "plt.show()"
   ]
  },
  {
   "cell_type": "code",
   "execution_count": null,
   "metadata": {},
   "outputs": [],
   "source": [
    "#custom binning\n",
    "bins = [0, 4, 8, 12, 16, 20, 25, 50, 75, 100, 200, 500, 1000, df_amz_ppd[\"price\"].max()]\n",
    "labels = [\"extremely cheap\",\"very cheap\", \"cheap\", \"fairly cheap\", \"moderate\", \"slightly moderate\", \"neutral\", \"slightly expensive\", \"somewhat expensive\", \"fairly expensive\", \"expensive\", \"very expensive\", \"extremely expensive\"]\n",
    "\n",
    "df_amz_ppd[\"price_bin\"] = pd.cut(df_amz_ppd[\"price\"], bins = bins, labels = labels)\n",
    "\n",
    "df_amz_ppd.head()"
   ]
  },
  {
   "cell_type": "code",
   "execution_count": null,
   "metadata": {},
   "outputs": [],
   "source": [
    "df_amz_ppd.price_bin.value_counts()"
   ]
  },
  {
   "cell_type": "code",
   "execution_count": null,
   "metadata": {},
   "outputs": [],
   "source": [
    "sns.histplot(df_amz_ppd['price_bin'], kde=True, bins=13, color=\"salmon\")"
   ]
  },
  {
   "cell_type": "code",
   "execution_count": null,
   "metadata": {},
   "outputs": [],
   "source": [
    "sns.boxplot(df_amz_ppd['price_bin'], color=\"lightblue\")\n",
    "plt.show"
   ]
  },
  {
   "cell_type": "markdown",
   "metadata": {},
   "source": [
    "## Part 3: Unpacking Product Ratings\n",
    "Business Question: How do customers rate products on Amazon UK, and are there any patterns or tendencies in the ratings?\n",
    "\n",
    "Measures of Centrality:\n",
    "\n",
    "Calculate the mean, median, and mode for the rating of products.\n",
    "How do customers generally rate products? Is there a common trend?\n",
    "Measures of Dispersion:\n",
    "\n",
    "Determine the variance, standard deviation, and interquartile range for product rating.\n",
    "Are the ratings consistent, or is there a wide variation in customer feedback?\n",
    "Shape of the Distribution:\n",
    "\n",
    "Calculate the skewness and kurtosis for the rating column.\n",
    "Are the ratings normally distributed, or do they lean towards higher or lower values?\n",
    "Visualizations:\n",
    "\n",
    "Plot a histogram to visualize the distribution of product ratings. Is there a specific rating that is more common?"
   ]
  },
  {
   "cell_type": "code",
   "execution_count": null,
   "metadata": {},
   "outputs": [],
   "source": [
    "count_stars = df_amz_ppd[\"stars\"].count()\n",
    "mean_stars = df_amz_ppd[\"stars\"].mean()\n",
    "median_stars = df_amz_ppd[\"stars\"].median()\n",
    "mode_stars = df_amz_ppd[\"stars\"].mode()[0]\n",
    "\n",
    "count_stars, mean_stars, median_stars, mode_stars"
   ]
  },
  {
   "cell_type": "code",
   "execution_count": null,
   "metadata": {},
   "outputs": [],
   "source": [
    "var_stars = df_amz_ppd[\"stars\"].var()\n",
    "std_stars = df_amz_ppd[\"stars\"].std()\n",
    "range_stars = df_amz_ppd[\"stars\"].max()  - df_amz_ppd[\"stars\"].min()\n",
    "\n",
    "var_stars, std_stars, range_stars\n",
    "\n"
   ]
  },
  {
   "cell_type": "code",
   "execution_count": null,
   "metadata": {},
   "outputs": [],
   "source": [
    "skewness_df_amz_ppd = df_amz_ppd[\"stars\"].skew()\n",
    "kurtosis_df_amz_ppd = df_amz_ppd['stars'].kurtosis()\n",
    "\n",
    "skewness_df_amz_ppd, kurtosis_df_amz_ppd"
   ]
  },
  {
   "cell_type": "code",
   "execution_count": null,
   "metadata": {},
   "outputs": [],
   "source": [
    "sns.histplot(df_amz_ppd['stars'], kde=True, bins=5, color=\"salmon\")"
   ]
  },
  {
   "cell_type": "markdown",
   "metadata": {},
   "source": [
    "The rating of 1 and 5 out of 5 stars are most common - basically there are the most ratings with 1 out of 5 stars"
   ]
  },
  {
   "cell_type": "code",
   "execution_count": null,
   "metadata": {},
   "outputs": [],
   "source": [
    "sns.boxplot(df_amz_ppd['stars'], color=\"lightblue\")\n",
    "plt.show"
   ]
  }
 ],
 "metadata": {
  "kernelspec": {
   "display_name": "base",
   "language": "python",
   "name": "python3"
  },
  "language_info": {
   "codemirror_mode": {
    "name": "ipython",
    "version": 3
   },
   "file_extension": ".py",
   "mimetype": "text/x-python",
   "name": "python",
   "nbconvert_exporter": "python",
   "pygments_lexer": "ipython3",
   "version": "3.12.7"
  }
 },
 "nbformat": 4,
 "nbformat_minor": 2
}
